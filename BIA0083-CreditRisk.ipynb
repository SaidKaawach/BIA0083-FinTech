{
  "nbformat": 4,
  "nbformat_minor": 0,
  "metadata": {
    "colab": {
      "provenance": [],
      "authorship_tag": "ABX9TyNNpCRhorhAHOY/KWFKyjUK",
      "include_colab_link": true
    },
    "kernelspec": {
      "name": "python3",
      "display_name": "Python 3"
    },
    "language_info": {
      "name": "python"
    }
  },
  "cells": [
    {
      "cell_type": "markdown",
      "metadata": {
        "id": "view-in-github",
        "colab_type": "text"
      },
      "source": [
        "<a href=\"https://colab.research.google.com/github/SaidKaawach/BIA0083-FinTech/blob/main/BIA0083-CreditRisk.ipynb\" target=\"_parent\"><img src=\"https://colab.research.google.com/assets/colab-badge.svg\" alt=\"Open In Colab\"/></a>"
      ]
    },
    {
      "cell_type": "code",
      "execution_count": null,
      "metadata": {
        "colab": {
          "base_uri": "https://localhost:8080/"
        },
        "collapsed": true,
        "id": "zWmbnMT015L_",
        "outputId": "6e9abbe6-c582-42ed-b25e-09ea785b453c"
      },
      "outputs": [
        {
          "output_type": "stream",
          "name": "stdout",
          "text": [
            "Requirement already satisfied: scikit-learn in /usr/local/lib/python3.10/dist-packages (1.2.2)\n",
            "Requirement already satisfied: numpy>=1.17.3 in /usr/local/lib/python3.10/dist-packages (from scikit-learn) (1.25.2)\n",
            "Requirement already satisfied: scipy>=1.3.2 in /usr/local/lib/python3.10/dist-packages (from scikit-learn) (1.11.4)\n",
            "Requirement already satisfied: joblib>=1.1.1 in /usr/local/lib/python3.10/dist-packages (from scikit-learn) (1.4.2)\n",
            "Requirement already satisfied: threadpoolctl>=2.0.0 in /usr/local/lib/python3.10/dist-packages (from scikit-learn) (3.5.0)\n",
            "Requirement already satisfied: pandas in /usr/local/lib/python3.10/dist-packages (2.0.3)\n",
            "Requirement already satisfied: python-dateutil>=2.8.2 in /usr/local/lib/python3.10/dist-packages (from pandas) (2.8.2)\n",
            "Requirement already satisfied: pytz>=2020.1 in /usr/local/lib/python3.10/dist-packages (from pandas) (2023.4)\n",
            "Requirement already satisfied: tzdata>=2022.1 in /usr/local/lib/python3.10/dist-packages (from pandas) (2024.1)\n",
            "Requirement already satisfied: numpy>=1.21.0 in /usr/local/lib/python3.10/dist-packages (from pandas) (1.25.2)\n",
            "Requirement already satisfied: six>=1.5 in /usr/local/lib/python3.10/dist-packages (from python-dateutil>=2.8.2->pandas) (1.16.0)\n",
            "Requirement already satisfied: seaborn in /usr/local/lib/python3.10/dist-packages (0.13.1)\n",
            "Requirement already satisfied: numpy!=1.24.0,>=1.20 in /usr/local/lib/python3.10/dist-packages (from seaborn) (1.25.2)\n",
            "Requirement already satisfied: pandas>=1.2 in /usr/local/lib/python3.10/dist-packages (from seaborn) (2.0.3)\n",
            "Requirement already satisfied: matplotlib!=3.6.1,>=3.4 in /usr/local/lib/python3.10/dist-packages (from seaborn) (3.7.1)\n",
            "Requirement already satisfied: contourpy>=1.0.1 in /usr/local/lib/python3.10/dist-packages (from matplotlib!=3.6.1,>=3.4->seaborn) (1.2.1)\n",
            "Requirement already satisfied: cycler>=0.10 in /usr/local/lib/python3.10/dist-packages (from matplotlib!=3.6.1,>=3.4->seaborn) (0.12.1)\n",
            "Requirement already satisfied: fonttools>=4.22.0 in /usr/local/lib/python3.10/dist-packages (from matplotlib!=3.6.1,>=3.4->seaborn) (4.53.1)\n",
            "Requirement already satisfied: kiwisolver>=1.0.1 in /usr/local/lib/python3.10/dist-packages (from matplotlib!=3.6.1,>=3.4->seaborn) (1.4.5)\n",
            "Requirement already satisfied: packaging>=20.0 in /usr/local/lib/python3.10/dist-packages (from matplotlib!=3.6.1,>=3.4->seaborn) (24.1)\n",
            "Requirement already satisfied: pillow>=6.2.0 in /usr/local/lib/python3.10/dist-packages (from matplotlib!=3.6.1,>=3.4->seaborn) (9.4.0)\n",
            "Requirement already satisfied: pyparsing>=2.3.1 in /usr/local/lib/python3.10/dist-packages (from matplotlib!=3.6.1,>=3.4->seaborn) (3.1.2)\n",
            "Requirement already satisfied: python-dateutil>=2.7 in /usr/local/lib/python3.10/dist-packages (from matplotlib!=3.6.1,>=3.4->seaborn) (2.8.2)\n",
            "Requirement already satisfied: pytz>=2020.1 in /usr/local/lib/python3.10/dist-packages (from pandas>=1.2->seaborn) (2023.4)\n",
            "Requirement already satisfied: tzdata>=2022.1 in /usr/local/lib/python3.10/dist-packages (from pandas>=1.2->seaborn) (2024.1)\n",
            "Requirement already satisfied: six>=1.5 in /usr/local/lib/python3.10/dist-packages (from python-dateutil>=2.7->matplotlib!=3.6.1,>=3.4->seaborn) (1.16.0)\n",
            "Requirement already satisfied: matplotlib in /usr/local/lib/python3.10/dist-packages (3.7.1)\n",
            "Requirement already satisfied: contourpy>=1.0.1 in /usr/local/lib/python3.10/dist-packages (from matplotlib) (1.2.1)\n",
            "Requirement already satisfied: cycler>=0.10 in /usr/local/lib/python3.10/dist-packages (from matplotlib) (0.12.1)\n",
            "Requirement already satisfied: fonttools>=4.22.0 in /usr/local/lib/python3.10/dist-packages (from matplotlib) (4.53.1)\n",
            "Requirement already satisfied: kiwisolver>=1.0.1 in /usr/local/lib/python3.10/dist-packages (from matplotlib) (1.4.5)\n",
            "Requirement already satisfied: numpy>=1.20 in /usr/local/lib/python3.10/dist-packages (from matplotlib) (1.25.2)\n",
            "Requirement already satisfied: packaging>=20.0 in /usr/local/lib/python3.10/dist-packages (from matplotlib) (24.1)\n",
            "Requirement already satisfied: pillow>=6.2.0 in /usr/local/lib/python3.10/dist-packages (from matplotlib) (9.4.0)\n",
            "Requirement already satisfied: pyparsing>=2.3.1 in /usr/local/lib/python3.10/dist-packages (from matplotlib) (3.1.2)\n",
            "Requirement already satisfied: python-dateutil>=2.7 in /usr/local/lib/python3.10/dist-packages (from matplotlib) (2.8.2)\n",
            "Requirement already satisfied: six>=1.5 in /usr/local/lib/python3.10/dist-packages (from python-dateutil>=2.7->matplotlib) (1.16.0)\n"
          ]
        }
      ],
      "source": [
        "# download necessary libraries\n",
        "!pip install scikit-learn\n",
        "!pip install pandas\n",
        "!pip install seaborn\n",
        "!pip install matplotlib"
      ]
    },
    {
      "cell_type": "code",
      "source": [
        "# Import necessary libraries\n",
        "import pandas as pd\n",
        "from sklearn.model_selection import train_test_split\n",
        "from sklearn.linear_model import LogisticRegression\n",
        "from sklearn.metrics import classification_report, confusion_matrix\n",
        "import seaborn as sns\n",
        "import matplotlib.pyplot as plt"
      ],
      "metadata": {
        "id": "J_B3rkRJ2i_-"
      },
      "execution_count": null,
      "outputs": []
    },
    {
      "cell_type": "markdown",
      "source": [
        "1. Open Google Colab, upload the dataset provided (credit.csv), and display the first few rows of the dataset."
      ],
      "metadata": {
        "id": "o1JHeenl6iIP"
      }
    },
    {
      "cell_type": "code",
      "source": [
        "# Upload the dataset\n",
        "from google.colab import files\n",
        "uploaded = files.upload()"
      ],
      "metadata": {
        "colab": {
          "base_uri": "https://localhost:8080/",
          "height": 73
        },
        "id": "LoYNJt2O2qkE",
        "outputId": "ebe91482-919d-4810-e318-40a6a8874889"
      },
      "execution_count": null,
      "outputs": [
        {
          "output_type": "display_data",
          "data": {
            "text/plain": [
              "<IPython.core.display.HTML object>"
            ],
            "text/html": [
              "\n",
              "     <input type=\"file\" id=\"files-1d9bf235-db2b-4f05-9d22-42c3ec273b9d\" name=\"files[]\" multiple disabled\n",
              "        style=\"border:none\" />\n",
              "     <output id=\"result-1d9bf235-db2b-4f05-9d22-42c3ec273b9d\">\n",
              "      Upload widget is only available when the cell has been executed in the\n",
              "      current browser session. Please rerun this cell to enable.\n",
              "      </output>\n",
              "      <script>// Copyright 2017 Google LLC\n",
              "//\n",
              "// Licensed under the Apache License, Version 2.0 (the \"License\");\n",
              "// you may not use this file except in compliance with the License.\n",
              "// You may obtain a copy of the License at\n",
              "//\n",
              "//      http://www.apache.org/licenses/LICENSE-2.0\n",
              "//\n",
              "// Unless required by applicable law or agreed to in writing, software\n",
              "// distributed under the License is distributed on an \"AS IS\" BASIS,\n",
              "// WITHOUT WARRANTIES OR CONDITIONS OF ANY KIND, either express or implied.\n",
              "// See the License for the specific language governing permissions and\n",
              "// limitations under the License.\n",
              "\n",
              "/**\n",
              " * @fileoverview Helpers for google.colab Python module.\n",
              " */\n",
              "(function(scope) {\n",
              "function span(text, styleAttributes = {}) {\n",
              "  const element = document.createElement('span');\n",
              "  element.textContent = text;\n",
              "  for (const key of Object.keys(styleAttributes)) {\n",
              "    element.style[key] = styleAttributes[key];\n",
              "  }\n",
              "  return element;\n",
              "}\n",
              "\n",
              "// Max number of bytes which will be uploaded at a time.\n",
              "const MAX_PAYLOAD_SIZE = 100 * 1024;\n",
              "\n",
              "function _uploadFiles(inputId, outputId) {\n",
              "  const steps = uploadFilesStep(inputId, outputId);\n",
              "  const outputElement = document.getElementById(outputId);\n",
              "  // Cache steps on the outputElement to make it available for the next call\n",
              "  // to uploadFilesContinue from Python.\n",
              "  outputElement.steps = steps;\n",
              "\n",
              "  return _uploadFilesContinue(outputId);\n",
              "}\n",
              "\n",
              "// This is roughly an async generator (not supported in the browser yet),\n",
              "// where there are multiple asynchronous steps and the Python side is going\n",
              "// to poll for completion of each step.\n",
              "// This uses a Promise to block the python side on completion of each step,\n",
              "// then passes the result of the previous step as the input to the next step.\n",
              "function _uploadFilesContinue(outputId) {\n",
              "  const outputElement = document.getElementById(outputId);\n",
              "  const steps = outputElement.steps;\n",
              "\n",
              "  const next = steps.next(outputElement.lastPromiseValue);\n",
              "  return Promise.resolve(next.value.promise).then((value) => {\n",
              "    // Cache the last promise value to make it available to the next\n",
              "    // step of the generator.\n",
              "    outputElement.lastPromiseValue = value;\n",
              "    return next.value.response;\n",
              "  });\n",
              "}\n",
              "\n",
              "/**\n",
              " * Generator function which is called between each async step of the upload\n",
              " * process.\n",
              " * @param {string} inputId Element ID of the input file picker element.\n",
              " * @param {string} outputId Element ID of the output display.\n",
              " * @return {!Iterable<!Object>} Iterable of next steps.\n",
              " */\n",
              "function* uploadFilesStep(inputId, outputId) {\n",
              "  const inputElement = document.getElementById(inputId);\n",
              "  inputElement.disabled = false;\n",
              "\n",
              "  const outputElement = document.getElementById(outputId);\n",
              "  outputElement.innerHTML = '';\n",
              "\n",
              "  const pickedPromise = new Promise((resolve) => {\n",
              "    inputElement.addEventListener('change', (e) => {\n",
              "      resolve(e.target.files);\n",
              "    });\n",
              "  });\n",
              "\n",
              "  const cancel = document.createElement('button');\n",
              "  inputElement.parentElement.appendChild(cancel);\n",
              "  cancel.textContent = 'Cancel upload';\n",
              "  const cancelPromise = new Promise((resolve) => {\n",
              "    cancel.onclick = () => {\n",
              "      resolve(null);\n",
              "    };\n",
              "  });\n",
              "\n",
              "  // Wait for the user to pick the files.\n",
              "  const files = yield {\n",
              "    promise: Promise.race([pickedPromise, cancelPromise]),\n",
              "    response: {\n",
              "      action: 'starting',\n",
              "    }\n",
              "  };\n",
              "\n",
              "  cancel.remove();\n",
              "\n",
              "  // Disable the input element since further picks are not allowed.\n",
              "  inputElement.disabled = true;\n",
              "\n",
              "  if (!files) {\n",
              "    return {\n",
              "      response: {\n",
              "        action: 'complete',\n",
              "      }\n",
              "    };\n",
              "  }\n",
              "\n",
              "  for (const file of files) {\n",
              "    const li = document.createElement('li');\n",
              "    li.append(span(file.name, {fontWeight: 'bold'}));\n",
              "    li.append(span(\n",
              "        `(${file.type || 'n/a'}) - ${file.size} bytes, ` +\n",
              "        `last modified: ${\n",
              "            file.lastModifiedDate ? file.lastModifiedDate.toLocaleDateString() :\n",
              "                                    'n/a'} - `));\n",
              "    const percent = span('0% done');\n",
              "    li.appendChild(percent);\n",
              "\n",
              "    outputElement.appendChild(li);\n",
              "\n",
              "    const fileDataPromise = new Promise((resolve) => {\n",
              "      const reader = new FileReader();\n",
              "      reader.onload = (e) => {\n",
              "        resolve(e.target.result);\n",
              "      };\n",
              "      reader.readAsArrayBuffer(file);\n",
              "    });\n",
              "    // Wait for the data to be ready.\n",
              "    let fileData = yield {\n",
              "      promise: fileDataPromise,\n",
              "      response: {\n",
              "        action: 'continue',\n",
              "      }\n",
              "    };\n",
              "\n",
              "    // Use a chunked sending to avoid message size limits. See b/62115660.\n",
              "    let position = 0;\n",
              "    do {\n",
              "      const length = Math.min(fileData.byteLength - position, MAX_PAYLOAD_SIZE);\n",
              "      const chunk = new Uint8Array(fileData, position, length);\n",
              "      position += length;\n",
              "\n",
              "      const base64 = btoa(String.fromCharCode.apply(null, chunk));\n",
              "      yield {\n",
              "        response: {\n",
              "          action: 'append',\n",
              "          file: file.name,\n",
              "          data: base64,\n",
              "        },\n",
              "      };\n",
              "\n",
              "      let percentDone = fileData.byteLength === 0 ?\n",
              "          100 :\n",
              "          Math.round((position / fileData.byteLength) * 100);\n",
              "      percent.textContent = `${percentDone}% done`;\n",
              "\n",
              "    } while (position < fileData.byteLength);\n",
              "  }\n",
              "\n",
              "  // All done.\n",
              "  yield {\n",
              "    response: {\n",
              "      action: 'complete',\n",
              "    }\n",
              "  };\n",
              "}\n",
              "\n",
              "scope.google = scope.google || {};\n",
              "scope.google.colab = scope.google.colab || {};\n",
              "scope.google.colab._files = {\n",
              "  _uploadFiles,\n",
              "  _uploadFilesContinue,\n",
              "};\n",
              "})(self);\n",
              "</script> "
            ]
          },
          "metadata": {}
        },
        {
          "output_type": "stream",
          "name": "stdout",
          "text": [
            "Saving credit.csv to credit.csv\n"
          ]
        }
      ]
    },
    {
      "cell_type": "code",
      "source": [
        "file_path = next(iter(uploaded))\n",
        "credit_data = pd.read_csv(file_path)\n",
        "\n",
        "# Display the first few rows of the dataset\n",
        "print(credit_data.head())"
      ],
      "metadata": {
        "colab": {
          "base_uri": "https://localhost:8080/"
        },
        "id": "KrJQkU3S3J3_",
        "outputId": "546a84ed-b593-4271-8ae3-73cfb40d4bfc"
      },
      "execution_count": null,
      "outputs": [
        {
          "output_type": "stream",
          "name": "stdout",
          "text": [
            "   LoanId  LoanAmount  InterestRate  Maturity  RemainMonths NickName RealName  \\\n",
            "0       1        5000          12.5         3             3       谢辉       谢*   \n",
            "1       2        3000           5.0         6             0       一夫      杨**   \n",
            "2       3        3000          10.0         3             0       赵楠       赵*   \n",
            "3       4        5000          18.0        18             0       谢辉       谢*   \n",
            "4       6        3000           6.0         6             6       野狼      李**   \n",
            "\n",
            "           FirmName        IdCardNumber  CreditScore  ...  \\\n",
            "0            银华基金公司  341************814          210  ...   \n",
            "1  人人融信商务顾问（北京）有限公司  110************51x          210  ...   \n",
            "2        北京市君合律师事务所  110************247          210  ...   \n",
            "3            银华基金公司  341************814          210  ...   \n",
            "4      人人融信商务顾问有限公司  110************230          137  ...   \n",
            "\n",
            "              UseofLoan   JobType      FirmSize      FirmType  \\\n",
            "0  Personal Consumption       NaN    100 to 500    State Firm   \n",
            "1                 Other  Employed     10 to 100  Private Firm   \n",
            "2  Personal Consumption       NaN    100 to 500  Private Firm   \n",
            "3   Short Term Turnover       NaN    100 to 500    State Firm   \n",
            "4   Short Term Turnover       NaN  Less than 10  Private Firm   \n",
            "\n",
            "    EmploymentLength  BirthDate    EducationLevel  Gender  IndustrySector  \\\n",
            "0   Less than 1 Year  25nov1984  Master and Above    Male     Finance/Law   \n",
            "1       1 to 3 Years  12jul1984          Bachelor    Male              IT   \n",
            "2       1 to 3 Years  30nov1977  Master and Above  Female     Finance/Law   \n",
            "3   Less than 1 Year  25nov1984  Master and Above    Male     Finance/Law   \n",
            "4   Less than 1 Year  22sep1988          Bachelor    Male     Finance/Law   \n",
            "\n",
            "             Income  \n",
            "0   5,000 to 10,000  \n",
            "1  20,000 to 50,000  \n",
            "2  20,000 to 50,000  \n",
            "3   5,000 to 10,000  \n",
            "4    2,000 to 5,000  \n",
            "\n",
            "[5 rows x 40 columns]\n"
          ]
        }
      ]
    },
    {
      "cell_type": "markdown",
      "source": [
        "2. Preprocess the dataset by dropping columns that are not relevant for the analysis. List the columns you decided to drop and explain why."
      ],
      "metadata": {
        "id": "gWWjRfKG6pNW"
      }
    },
    {
      "cell_type": "code",
      "source": [
        "# Data Preprocessing\n",
        "# For simplicity, we'll drop columns with too many missing values and non-numeric columns that are difficult to process\n",
        "columns_to_drop = ['LoanId', 'NickName', 'RealName', 'FirmName', 'IdCardNumber', 'UseofLoan', 'JobType', 'FirmSize', 'FirmType', 'BirthDate', 'IndustrySector']\n",
        "credit_data = credit_data.drop(columns=columns_to_drop)\n"
      ],
      "metadata": {
        "id": "f4ELlOUo3Rh-"
      },
      "execution_count": null,
      "outputs": []
    },
    {
      "cell_type": "markdown",
      "source": [
        "3. Handle any missing values in the dataset by dropping rows with missing values. Check and report how many rows were removed."
      ],
      "metadata": {
        "id": "v1IogMCP6zsq"
      }
    },
    {
      "cell_type": "code",
      "source": [
        "# Drop rows with missing values\n",
        "credit_data = credit_data.dropna()"
      ],
      "metadata": {
        "id": "orAy64hr6y_1"
      },
      "execution_count": null,
      "outputs": []
    },
    {
      "cell_type": "markdown",
      "source": [
        "4. Convert the 'LoanStatus' column to a binary variable, where 'BAD_DEBT' is 1 and other statuses are 0. Display the first few rows of the modified dataset.\n"
      ],
      "metadata": {
        "id": "ek2gcQFL6wJF"
      }
    },
    {
      "cell_type": "code",
      "source": [
        "# Convert LoanStatus to a binary variable (1 = BAD_DEBT, 0 = otherwise)\n",
        "credit_data['LoanStatus'] = credit_data['LoanStatus'].apply(lambda x: 1 if x == 'BAD_DEBT' else 0)"
      ],
      "metadata": {
        "id": "yq_5J9sp3d_t"
      },
      "execution_count": null,
      "outputs": []
    },
    {
      "cell_type": "markdown",
      "source": [
        "5. Use one-hot encoding to convert categorical variables to numeric. Explain what one-hot encoding is and why it is used. Display the first few rows of the encoded dataset."
      ],
      "metadata": {
        "id": "20RLxVql7I_U"
      }
    },
    {
      "cell_type": "code",
      "source": [
        "# Convert categorical columns to numeric using one-hot encoding\n",
        "credit_data = pd.get_dummies(credit_data)"
      ],
      "metadata": {
        "id": "otmFZ3_t7HD9"
      },
      "execution_count": null,
      "outputs": []
    },
    {
      "cell_type": "code",
      "source": [
        "# Display the first few rows after dropping columns and rows\n",
        "print(credit_data.head())"
      ],
      "metadata": {
        "colab": {
          "base_uri": "https://localhost:8080/"
        },
        "collapsed": true,
        "id": "9_zZHwEE3jDa",
        "outputId": "6fdc5563-084a-4882-892e-31d221a129b1"
      },
      "execution_count": null,
      "outputs": [
        {
          "output_type": "stream",
          "name": "stdout",
          "text": [
            "    LoanAmount  InterestRate  Maturity  RemainMonths  CreditScore  BorrowerId  \\\n",
            "1         3000           5.0         6             0          210          13   \n",
            "8         3000          12.0        12             0          210          13   \n",
            "10        8000          15.0        12             0          135         225   \n",
            "15        3000           8.8        12             0          210          13   \n",
            "21        4000          15.0         3             0          210         361   \n",
            "\n",
            "    CarYear  AvailableCredits  TotalCount  SuccessCount  ...  \\\n",
            "1    2010.0            500000          29            23  ...   \n",
            "8    2010.0            500000          29            23  ...   \n",
            "10   2010.0             50000           3             3  ...   \n",
            "15   2010.0            500000          29            23  ...   \n",
            "21   2011.0            100000          23            20  ...   \n",
            "\n",
            "    EducationLevel_Master and Above  Gender_Female  Gender_Male  \\\n",
            "1                             False          False         True   \n",
            "8                             False          False         True   \n",
            "10                            False           True        False   \n",
            "15                            False          False         True   \n",
            "21                            False          False         True   \n",
            "\n",
            "    Income_1,001 to 2,000  Income_10,000 to 20,000  Income_2,000 to 5,000  \\\n",
            "1                   False                    False                  False   \n",
            "8                   False                    False                  False   \n",
            "10                  False                    False                   True   \n",
            "15                  False                    False                  False   \n",
            "21                  False                    False                  False   \n",
            "\n",
            "    Income_20,000 to 50,000  Income_5,000 to 10,000  Income_Less than 1,000  \\\n",
            "1                      True                   False                   False   \n",
            "8                      True                   False                   False   \n",
            "10                    False                   False                   False   \n",
            "15                     True                   False                   False   \n",
            "21                    False                    True                   False   \n",
            "\n",
            "    Income_Over 50,000  \n",
            "1                False  \n",
            "8                False  \n",
            "10               False  \n",
            "15               False  \n",
            "21               False  \n",
            "\n",
            "[5 rows x 6364 columns]\n"
          ]
        }
      ]
    },
    {
      "cell_type": "markdown",
      "source": [
        "6. Define the target variable (`y`) and feature variables (`X`)."
      ],
      "metadata": {
        "id": "2Of8b_U-7Tys"
      }
    },
    {
      "cell_type": "code",
      "source": [
        "# Define the target variable and feature variables\n",
        "# 'LoanStatus' is the target variable and the remaining columns are features\n",
        "X = credit_data.drop('LoanStatus', axis=1)\n",
        "y = credit_data['LoanStatus']"
      ],
      "metadata": {
        "id": "XmNyJpP33wlK"
      },
      "execution_count": null,
      "outputs": []
    },
    {
      "cell_type": "markdown",
      "source": [
        "Split the dataset into training and testing sets with an 80-20 split. Report the number of samples in the training and testing sets."
      ],
      "metadata": {
        "id": "IIERlvpl7brb"
      }
    },
    {
      "cell_type": "code",
      "source": [
        "# Split the data into training and testing sets\n",
        "X_train, X_test, y_train, y_test = train_test_split(X, y, test_size=0.2, random_state=42)"
      ],
      "metadata": {
        "id": "j9RwtTAe7eA0"
      },
      "execution_count": null,
      "outputs": []
    },
    {
      "cell_type": "markdown",
      "source": [
        "7. Initialize a logistic regression model with a maximum of 1000 iterations. Train the model using the training data."
      ],
      "metadata": {
        "id": "YOGzSdz17gWz"
      }
    },
    {
      "cell_type": "code",
      "source": [
        "# Initialize the logistic regression model\n",
        "model = LogisticRegression(max_iter=1000)"
      ],
      "metadata": {
        "id": "eKRRy7bM3xnd"
      },
      "execution_count": null,
      "outputs": []
    },
    {
      "cell_type": "markdown",
      "source": [
        "8. Make predictions on the test data using the trained model."
      ],
      "metadata": {
        "id": "YyPNsTKM7ouu"
      }
    },
    {
      "cell_type": "code",
      "source": [
        "# Train the model using the training data\n",
        "model.fit(X_train, y_train)\n",
        "\n",
        "# Make predictions on the test data\n",
        "y_pred = model.predict(X_test)"
      ],
      "metadata": {
        "id": "RKST7FVo4fFE"
      },
      "execution_count": null,
      "outputs": []
    },
    {
      "cell_type": "markdown",
      "source": [
        "9. Evaluate the model's performance by generating a confusion matrix and a classification report. Explain the terms precision, recall, F1-score, and support, and interpret the results."
      ],
      "metadata": {
        "id": "FWa2vnag7907"
      }
    },
    {
      "cell_type": "code",
      "source": [
        "# Evaluate the model\n",
        "print(\"Confusion Matrix:\")\n",
        "print(confusion_matrix(y_test, y_pred))\n",
        "print(\"\\nClassification Report:\")\n",
        "print(classification_report(y_test, y_pred))"
      ],
      "metadata": {
        "colab": {
          "base_uri": "https://localhost:8080/"
        },
        "id": "TL9Z7BAi77gT",
        "outputId": "555104c3-a45a-4650-ab92-f1e4ad1e44b2"
      },
      "execution_count": null,
      "outputs": [
        {
          "output_type": "stream",
          "name": "stdout",
          "text": [
            "Confusion Matrix:\n",
            "[[806   6]\n",
            " [ 22  13]]\n",
            "\n",
            "Classification Report:\n",
            "              precision    recall  f1-score   support\n",
            "\n",
            "           0       0.97      0.99      0.98       812\n",
            "           1       0.68      0.37      0.48        35\n",
            "\n",
            "    accuracy                           0.97       847\n",
            "   macro avg       0.83      0.68      0.73       847\n",
            "weighted avg       0.96      0.97      0.96       847\n",
            "\n"
          ]
        }
      ]
    },
    {
      "cell_type": "markdown",
      "source": [
        "**Confusion Matrix:**\n",
        "\n",
        "806: True Negatives (TN) - The number of correctly predicted non-default cases.\n",
        "\n",
        "6: False Positives (FP) - The number of non-default cases incorrectly predicted as defaults.\n",
        "\n",
        "22: False Negatives (FN) - The number of default cases incorrectly predicted as non-defaults.\n",
        "\n",
        "13: True Positives (TP) - The number of correctly predicted default cases."
      ],
      "metadata": {
        "id": "wiWlc5P44wOz"
      }
    },
    {
      "cell_type": "markdown",
      "source": [
        "10. Visualize the confusion matrix using a heatmap. Include labels for predicted and actual values and provide a title for the heatmap."
      ],
      "metadata": {
        "id": "BLKsKoFt8F2j"
      }
    },
    {
      "cell_type": "code",
      "source": [
        "# Visualize the confusion matrix\n",
        "conf_matrix = confusion_matrix(y_test, y_pred)\n",
        "sns.heatmap(conf_matrix, annot=True, fmt='d', cmap='Blues')\n",
        "plt.xlabel('Predicted')\n",
        "plt.ylabel('Actual')\n",
        "plt.title('Confusion Matrix')\n",
        "plt.show()"
      ],
      "metadata": {
        "colab": {
          "base_uri": "https://localhost:8080/",
          "height": 472
        },
        "id": "e5p8ZVzs4jni",
        "outputId": "2a7b34f0-f8aa-4927-c1cf-2d774d1e02cf"
      },
      "execution_count": null,
      "outputs": [
        {
          "output_type": "display_data",
          "data": {
            "text/plain": [
              "<Figure size 640x480 with 2 Axes>"
            ],
            "image/png": "[encoded data removed]"
          },
          "metadata": {}
        }
      ]
    }
  ]
}